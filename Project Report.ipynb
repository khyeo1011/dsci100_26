{
 "cells": [
  {
   "cell_type": "markdown",
   "id": "7400cbe0-4c17-4a23-8c5e-4364daf59aca",
   "metadata": {},
   "source": [
    "## Predicting Heart Disease Through Classification with Health Indicators"
   ]
  },
  {
   "cell_type": "markdown",
   "id": "20b9fdc8-cc53-4e14-af37-79ed5214abe8",
   "metadata": {},
   "source": [
    "Yiyao Ru, \n",
    "Liam Sissons,\n",
    "Nizel Abalos,\n",
    "Sebastian Yeo"
   ]
  },
  {
   "cell_type": "markdown",
   "id": "ba7376df-562d-451d-9b67-a3de7cf1d806",
   "metadata": {},
   "source": [
    "## Introduction\n",
    "\n",
    "  “Heart disease” refers to a varying number of heart related conditions that may include arrhythmias, heart attack, or even heart failure. There are several risk factors that may contribute to the development of heart disease including unhealthy lifestyle, genetics, smoking, and more. In particular, high blood pressure and high cholesterol are main factors that may contribute to the development of heart disease (About heart disease 2022).  \t\n",
    "  \n",
    "  This data analysis will be exploring the relationship between heart disease and several variables including cholesterol, age, fasting blood sugar and resting blood pressure. The specific data set from Cleveland was chosen due to the prevalence of heart disease related to lifestyle and health factors in the United States (U.S. health care from a global perspective, 2019: Higher spending, worse outcomes? 2020). The dataset includes health related test results collected from about 300 patients in Cleveland and originates from the Cleveland Clinic Foundation. \n",
    "  \n",
    "      \n",
    "The aim is to address the question: Is it possible to predict the risk level of heart disease (ranging from 0-4, 0 indicating no presence, to 4 being very risky) in Cleveland patients using our selected variables (cholesterol level, age, fasting blood sugar and resting blood pressure)?\n"
   ]
  },
  {
   "cell_type": "markdown",
   "id": "2e3df54d-78da-4959-8bfb-0e648c6b5693",
   "metadata": {},
   "source": [
    "## Preliminary explanatory data analysis"
   ]
  },
  {
   "cell_type": "code",
   "execution_count": 1,
   "id": "7233662e-6d2f-4ddf-aebf-771fd57765d7",
   "metadata": {},
   "outputs": [
    {
     "name": "stderr",
     "output_type": "stream",
     "text": [
      "── \u001b[1mAttaching packages\u001b[22m ─────────────────────────────────────── tidyverse 1.3.1 ──\n",
      "\n",
      "\u001b[32m✔\u001b[39m \u001b[34mggplot2\u001b[39m 3.3.6     \u001b[32m✔\u001b[39m \u001b[34mpurrr  \u001b[39m 0.3.4\n",
      "\u001b[32m✔\u001b[39m \u001b[34mtibble \u001b[39m 3.1.7     \u001b[32m✔\u001b[39m \u001b[34mdplyr  \u001b[39m 1.0.9\n",
      "\u001b[32m✔\u001b[39m \u001b[34mtidyr  \u001b[39m 1.2.0     \u001b[32m✔\u001b[39m \u001b[34mstringr\u001b[39m 1.4.0\n",
      "\u001b[32m✔\u001b[39m \u001b[34mreadr  \u001b[39m 2.1.2     \u001b[32m✔\u001b[39m \u001b[34mforcats\u001b[39m 0.5.1\n",
      "\n",
      "── \u001b[1mConflicts\u001b[22m ────────────────────────────────────────── tidyverse_conflicts() ──\n",
      "\u001b[31m✖\u001b[39m \u001b[34mdplyr\u001b[39m::\u001b[32mfilter()\u001b[39m masks \u001b[34mstats\u001b[39m::filter()\n",
      "\u001b[31m✖\u001b[39m \u001b[34mdplyr\u001b[39m::\u001b[32mlag()\u001b[39m    masks \u001b[34mstats\u001b[39m::lag()\n",
      "\n",
      "── \u001b[1mAttaching packages\u001b[22m ────────────────────────────────────── tidymodels 1.0.0 ──\n",
      "\n",
      "\u001b[32m✔\u001b[39m \u001b[34mbroom       \u001b[39m 1.0.0     \u001b[32m✔\u001b[39m \u001b[34mrsample     \u001b[39m 1.0.0\n",
      "\u001b[32m✔\u001b[39m \u001b[34mdials       \u001b[39m 1.0.0     \u001b[32m✔\u001b[39m \u001b[34mtune        \u001b[39m 1.0.0\n",
      "\u001b[32m✔\u001b[39m \u001b[34minfer       \u001b[39m 1.0.2     \u001b[32m✔\u001b[39m \u001b[34mworkflows   \u001b[39m 1.0.0\n",
      "\u001b[32m✔\u001b[39m \u001b[34mmodeldata   \u001b[39m 1.0.0     \u001b[32m✔\u001b[39m \u001b[34mworkflowsets\u001b[39m 1.0.0\n",
      "\u001b[32m✔\u001b[39m \u001b[34mparsnip     \u001b[39m 1.0.0     \u001b[32m✔\u001b[39m \u001b[34myardstick   \u001b[39m 1.0.0\n",
      "\u001b[32m✔\u001b[39m \u001b[34mrecipes     \u001b[39m 1.0.1     \n",
      "\n",
      "── \u001b[1mConflicts\u001b[22m ───────────────────────────────────────── tidymodels_conflicts() ──\n",
      "\u001b[31m✖\u001b[39m \u001b[34mscales\u001b[39m::\u001b[32mdiscard()\u001b[39m masks \u001b[34mpurrr\u001b[39m::discard()\n",
      "\u001b[31m✖\u001b[39m \u001b[34mdplyr\u001b[39m::\u001b[32mfilter()\u001b[39m   masks \u001b[34mstats\u001b[39m::filter()\n",
      "\u001b[31m✖\u001b[39m \u001b[34mrecipes\u001b[39m::\u001b[32mfixed()\u001b[39m  masks \u001b[34mstringr\u001b[39m::fixed()\n",
      "\u001b[31m✖\u001b[39m \u001b[34mdplyr\u001b[39m::\u001b[32mlag()\u001b[39m      masks \u001b[34mstats\u001b[39m::lag()\n",
      "\u001b[31m✖\u001b[39m \u001b[34myardstick\u001b[39m::\u001b[32mspec()\u001b[39m masks \u001b[34mreadr\u001b[39m::spec()\n",
      "\u001b[31m✖\u001b[39m \u001b[34mrecipes\u001b[39m::\u001b[32mstep()\u001b[39m   masks \u001b[34mstats\u001b[39m::step()\n",
      "\u001b[34m•\u001b[39m Dig deeper into tidy modeling with R at \u001b[32mhttps://www.tmwr.org\u001b[39m\n",
      "\n",
      "Registered S3 method overwritten by 'GGally':\n",
      "  method from   \n",
      "  +.gg   ggplot2\n",
      "\n"
     ]
    }
   ],
   "source": [
    "library(tidyverse)\n",
    "library(repr)\n",
    "library(tidymodels)\n",
    "library(cowplot)\n",
    "library(GGally)"
   ]
  },
  {
   "cell_type": "code",
   "execution_count": 2,
   "id": "a2798158-76b2-4b0e-a561-8394c74c2374",
   "metadata": {},
   "outputs": [
    {
     "name": "stderr",
     "output_type": "stream",
     "text": [
      "\u001b[1mRows: \u001b[22m\u001b[34m303\u001b[39m \u001b[1mColumns: \u001b[22m\u001b[34m14\u001b[39m\n",
      "\u001b[36m──\u001b[39m \u001b[1mColumn specification\u001b[22m \u001b[36m────────────────────────────────────────────────────────\u001b[39m\n",
      "\u001b[1mDelimiter:\u001b[22m \",\"\n",
      "\u001b[31mchr\u001b[39m  (2): X12, X13\n",
      "\u001b[32mdbl\u001b[39m (12): X1, X2, X3, X4, X5, X6, X7, X8, X9, X10, X11, X14\n",
      "\n",
      "\u001b[36mℹ\u001b[39m Use `spec()` to retrieve the full column specification for this data.\n",
      "\u001b[36mℹ\u001b[39m Specify the column types or set `show_col_types = FALSE` to quiet this message.\n"
     ]
    }
   ],
   "source": [
    "processed_cleveland_hd <- read_csv(\"https://archive.ics.uci.edu/ml/machine-learning-databases/heart-disease/processed.cleveland.data\", col_names = FALSE)"
   ]
  },
  {
   "cell_type": "code",
   "execution_count": 3,
   "id": "3ec1cc55-0f12-4f18-8040-b2204319f33d",
   "metadata": {},
   "outputs": [
    {
     "data": {
      "text/html": [
       "<table class=\"dataframe\">\n",
       "<caption>A tibble: 6 × 14</caption>\n",
       "<thead>\n",
       "\t<tr><th scope=col>age</th><th scope=col>sex</th><th scope=col>cp</th><th scope=col>trestbps</th><th scope=col>chol</th><th scope=col>fbs</th><th scope=col>restecg</th><th scope=col>thalach</th><th scope=col>exang</th><th scope=col>oldpeak</th><th scope=col>slope</th><th scope=col>ca</th><th scope=col>thal</th><th scope=col>num</th></tr>\n",
       "\t<tr><th scope=col>&lt;dbl&gt;</th><th scope=col>&lt;dbl&gt;</th><th scope=col>&lt;dbl&gt;</th><th scope=col>&lt;dbl&gt;</th><th scope=col>&lt;dbl&gt;</th><th scope=col>&lt;dbl&gt;</th><th scope=col>&lt;dbl&gt;</th><th scope=col>&lt;dbl&gt;</th><th scope=col>&lt;dbl&gt;</th><th scope=col>&lt;dbl&gt;</th><th scope=col>&lt;dbl&gt;</th><th scope=col>&lt;chr&gt;</th><th scope=col>&lt;chr&gt;</th><th scope=col>&lt;dbl&gt;</th></tr>\n",
       "</thead>\n",
       "<tbody>\n",
       "\t<tr><td>63</td><td>1</td><td>1</td><td>145</td><td>233</td><td>1</td><td>2</td><td>150</td><td>0</td><td>2.3</td><td>3</td><td>0.0</td><td>6.0</td><td>0</td></tr>\n",
       "\t<tr><td>67</td><td>1</td><td>4</td><td>160</td><td>286</td><td>0</td><td>2</td><td>108</td><td>1</td><td>1.5</td><td>2</td><td>3.0</td><td>3.0</td><td>2</td></tr>\n",
       "\t<tr><td>67</td><td>1</td><td>4</td><td>120</td><td>229</td><td>0</td><td>2</td><td>129</td><td>1</td><td>2.6</td><td>2</td><td>2.0</td><td>7.0</td><td>1</td></tr>\n",
       "\t<tr><td>37</td><td>1</td><td>3</td><td>130</td><td>250</td><td>0</td><td>0</td><td>187</td><td>0</td><td>3.5</td><td>3</td><td>0.0</td><td>3.0</td><td>0</td></tr>\n",
       "\t<tr><td>41</td><td>0</td><td>2</td><td>130</td><td>204</td><td>0</td><td>2</td><td>172</td><td>0</td><td>1.4</td><td>1</td><td>0.0</td><td>3.0</td><td>0</td></tr>\n",
       "\t<tr><td>56</td><td>1</td><td>2</td><td>120</td><td>236</td><td>0</td><td>0</td><td>178</td><td>0</td><td>0.8</td><td>1</td><td>0.0</td><td>3.0</td><td>0</td></tr>\n",
       "</tbody>\n",
       "</table>\n"
      ],
      "text/latex": [
       "A tibble: 6 × 14\n",
       "\\begin{tabular}{llllllllllllll}\n",
       " age & sex & cp & trestbps & chol & fbs & restecg & thalach & exang & oldpeak & slope & ca & thal & num\\\\\n",
       " <dbl> & <dbl> & <dbl> & <dbl> & <dbl> & <dbl> & <dbl> & <dbl> & <dbl> & <dbl> & <dbl> & <chr> & <chr> & <dbl>\\\\\n",
       "\\hline\n",
       "\t 63 & 1 & 1 & 145 & 233 & 1 & 2 & 150 & 0 & 2.3 & 3 & 0.0 & 6.0 & 0\\\\\n",
       "\t 67 & 1 & 4 & 160 & 286 & 0 & 2 & 108 & 1 & 1.5 & 2 & 3.0 & 3.0 & 2\\\\\n",
       "\t 67 & 1 & 4 & 120 & 229 & 0 & 2 & 129 & 1 & 2.6 & 2 & 2.0 & 7.0 & 1\\\\\n",
       "\t 37 & 1 & 3 & 130 & 250 & 0 & 0 & 187 & 0 & 3.5 & 3 & 0.0 & 3.0 & 0\\\\\n",
       "\t 41 & 0 & 2 & 130 & 204 & 0 & 2 & 172 & 0 & 1.4 & 1 & 0.0 & 3.0 & 0\\\\\n",
       "\t 56 & 1 & 2 & 120 & 236 & 0 & 0 & 178 & 0 & 0.8 & 1 & 0.0 & 3.0 & 0\\\\\n",
       "\\end{tabular}\n"
      ],
      "text/markdown": [
       "\n",
       "A tibble: 6 × 14\n",
       "\n",
       "| age &lt;dbl&gt; | sex &lt;dbl&gt; | cp &lt;dbl&gt; | trestbps &lt;dbl&gt; | chol &lt;dbl&gt; | fbs &lt;dbl&gt; | restecg &lt;dbl&gt; | thalach &lt;dbl&gt; | exang &lt;dbl&gt; | oldpeak &lt;dbl&gt; | slope &lt;dbl&gt; | ca &lt;chr&gt; | thal &lt;chr&gt; | num &lt;dbl&gt; |\n",
       "|---|---|---|---|---|---|---|---|---|---|---|---|---|---|\n",
       "| 63 | 1 | 1 | 145 | 233 | 1 | 2 | 150 | 0 | 2.3 | 3 | 0.0 | 6.0 | 0 |\n",
       "| 67 | 1 | 4 | 160 | 286 | 0 | 2 | 108 | 1 | 1.5 | 2 | 3.0 | 3.0 | 2 |\n",
       "| 67 | 1 | 4 | 120 | 229 | 0 | 2 | 129 | 1 | 2.6 | 2 | 2.0 | 7.0 | 1 |\n",
       "| 37 | 1 | 3 | 130 | 250 | 0 | 0 | 187 | 0 | 3.5 | 3 | 0.0 | 3.0 | 0 |\n",
       "| 41 | 0 | 2 | 130 | 204 | 0 | 2 | 172 | 0 | 1.4 | 1 | 0.0 | 3.0 | 0 |\n",
       "| 56 | 1 | 2 | 120 | 236 | 0 | 0 | 178 | 0 | 0.8 | 1 | 0.0 | 3.0 | 0 |\n",
       "\n"
      ],
      "text/plain": [
       "  age sex cp trestbps chol fbs restecg thalach exang oldpeak slope ca  thal num\n",
       "1 63  1   1  145      233  1   2       150     0     2.3     3     0.0 6.0  0  \n",
       "2 67  1   4  160      286  0   2       108     1     1.5     2     3.0 3.0  2  \n",
       "3 67  1   4  120      229  0   2       129     1     2.6     2     2.0 7.0  1  \n",
       "4 37  1   3  130      250  0   0       187     0     3.5     3     0.0 3.0  0  \n",
       "5 41  0   2  130      204  0   2       172     0     1.4     1     0.0 3.0  0  \n",
       "6 56  1   2  120      236  0   0       178     0     0.8     1     0.0 3.0  0  "
      ]
     },
     "metadata": {},
     "output_type": "display_data"
    }
   ],
   "source": [
    "colnames(processed_cleveland_hd) <- c(\"age\", \"sex\", \"cp\", \"trestbps\", \"chol\", \"fbs\", \"restecg\", \"thalach\", \"exang\", \"oldpeak\", \"slope\", \"ca\", \"thal\", \"num\")\n",
    "head(processed_cleveland_hd)"
   ]
  },
  {
   "cell_type": "code",
   "execution_count": 4,
   "id": "476ec02f-76b4-401c-8e2b-0928d08d131e",
   "metadata": {},
   "outputs": [
    {
     "data": {
      "text/html": [
       "<table class=\"dataframe\">\n",
       "<caption>A tibble: 6 × 6</caption>\n",
       "<thead>\n",
       "\t<tr><th scope=col>age</th><th scope=col>trestbps</th><th scope=col>chol</th><th scope=col>thalach</th><th scope=col>oldpeak</th><th scope=col>risk</th></tr>\n",
       "\t<tr><th scope=col>&lt;dbl&gt;</th><th scope=col>&lt;dbl&gt;</th><th scope=col>&lt;dbl&gt;</th><th scope=col>&lt;dbl&gt;</th><th scope=col>&lt;dbl&gt;</th><th scope=col>&lt;fct&gt;</th></tr>\n",
       "</thead>\n",
       "<tbody>\n",
       "\t<tr><td>63</td><td>145</td><td>233</td><td>150</td><td>2.3</td><td>No Risk </td></tr>\n",
       "\t<tr><td>67</td><td>160</td><td>286</td><td>108</td><td>1.5</td><td>Low Risk</td></tr>\n",
       "\t<tr><td>67</td><td>120</td><td>229</td><td>129</td><td>2.6</td><td>Low Risk</td></tr>\n",
       "\t<tr><td>37</td><td>130</td><td>250</td><td>187</td><td>3.5</td><td>No Risk </td></tr>\n",
       "\t<tr><td>41</td><td>130</td><td>204</td><td>172</td><td>1.4</td><td>No Risk </td></tr>\n",
       "\t<tr><td>56</td><td>120</td><td>236</td><td>178</td><td>0.8</td><td>No Risk </td></tr>\n",
       "</tbody>\n",
       "</table>\n"
      ],
      "text/latex": [
       "A tibble: 6 × 6\n",
       "\\begin{tabular}{llllll}\n",
       " age & trestbps & chol & thalach & oldpeak & risk\\\\\n",
       " <dbl> & <dbl> & <dbl> & <dbl> & <dbl> & <fct>\\\\\n",
       "\\hline\n",
       "\t 63 & 145 & 233 & 150 & 2.3 & No Risk \\\\\n",
       "\t 67 & 160 & 286 & 108 & 1.5 & Low Risk\\\\\n",
       "\t 67 & 120 & 229 & 129 & 2.6 & Low Risk\\\\\n",
       "\t 37 & 130 & 250 & 187 & 3.5 & No Risk \\\\\n",
       "\t 41 & 130 & 204 & 172 & 1.4 & No Risk \\\\\n",
       "\t 56 & 120 & 236 & 178 & 0.8 & No Risk \\\\\n",
       "\\end{tabular}\n"
      ],
      "text/markdown": [
       "\n",
       "A tibble: 6 × 6\n",
       "\n",
       "| age &lt;dbl&gt; | trestbps &lt;dbl&gt; | chol &lt;dbl&gt; | thalach &lt;dbl&gt; | oldpeak &lt;dbl&gt; | risk &lt;fct&gt; |\n",
       "|---|---|---|---|---|---|\n",
       "| 63 | 145 | 233 | 150 | 2.3 | No Risk  |\n",
       "| 67 | 160 | 286 | 108 | 1.5 | Low Risk |\n",
       "| 67 | 120 | 229 | 129 | 2.6 | Low Risk |\n",
       "| 37 | 130 | 250 | 187 | 3.5 | No Risk  |\n",
       "| 41 | 130 | 204 | 172 | 1.4 | No Risk  |\n",
       "| 56 | 120 | 236 | 178 | 0.8 | No Risk  |\n",
       "\n"
      ],
      "text/plain": [
       "  age trestbps chol thalach oldpeak risk    \n",
       "1 63  145      233  150     2.3     No Risk \n",
       "2 67  160      286  108     1.5     Low Risk\n",
       "3 67  120      229  129     2.6     Low Risk\n",
       "4 37  130      250  187     3.5     No Risk \n",
       "5 41  130      204  172     1.4     No Risk \n",
       "6 56  120      236  178     0.8     No Risk "
      ]
     },
     "metadata": {},
     "output_type": "display_data"
    }
   ],
   "source": [
    "#Omit Categorical values : sex, cp, restecg, fbs, slope, exang, thal. K-nn classification does not work with categorical attributes.\n",
    "hd_selected <- processed_cleveland_hd |>\n",
    "    mutate(risk = ifelse(num==0,\"No Risk\", ifelse(num>=3, \"High Risk\", \"Low Risk\"))) |>\n",
    "    select(age, trestbps, chol, thalach, oldpeak, risk) |>\n",
    "    mutate(risk = as_factor(risk))\n",
    "head(hd_selected)"
   ]
  },
  {
   "cell_type": "code",
   "execution_count": 5,
   "id": "71594770-9fda-43a9-b035-0c7a24a34d50",
   "metadata": {},
   "outputs": [],
   "source": [
    "#Splitting the data into a training and testing data set\n",
    "set.seed(1234)\n",
    "\n",
    "hd_split <- initial_split(hd_selected, prop = 0.75, strata = risk)\n",
    "hd_train <- training(hd_split)\n",
    "hd_test <- testing(hd_split)"
   ]
  },
  {
   "cell_type": "code",
   "execution_count": 6,
   "id": "c476428b-1397-4fd1-96b6-e86bf578f2e9",
   "metadata": {},
   "outputs": [
    {
     "ename": "ERROR",
     "evalue": "Error in merge(hd_observations_train, hd_observations, on = \"risk\"): object 'hd_observations_train' not found\n",
     "output_type": "error",
     "traceback": [
      "Error in merge(hd_observations_train, hd_observations, on = \"risk\"): object 'hd_observations_train' not found\nTraceback:\n",
      "1. merge(hd_observations_train, hd_observations, on = \"risk\")"
     ]
    }
   ],
   "source": [
    "hd_predictors_train <- hd_train |>\n",
    "    select(age, trestbps, chol, thalach, oldpeak,risk) |>\n",
    "    group_by(risk) |>\n",
    "    summarize(across(age:oldpeak, mean))|>\n",
    "    arrange(risk)\n",
    "\n",
    "hd_observations <- hd_train |>\n",
    "    group_by(risk) |>\n",
    "    summarise(count = n())\n",
    "\n",
    "hd <- merge(hd_observations_train, hd_observations, on = \"risk\")\n",
    "\n",
    "distinct(hd)"
   ]
  },
  {
   "cell_type": "code",
   "execution_count": null,
   "id": "21889b58-f5bd-4f73-b687-3a9eaa6acee1",
   "metadata": {},
   "outputs": [],
   "source": [
    "options(repr.plot.width = 15, repr.plot.height = 10)\n",
    "hd_plot <- hd_selected |>\n",
    "    pivot_longer(cols = -risk, names_to = 'category', values_to = 'value')  |> \n",
    "    ggplot(aes(value, fill = risk)) +\n",
    "        geom_density(alpha = 0.4, colour = 'white') +\n",
    "        facet_wrap(facets = vars(category), scales = 'free') +\n",
    "        theme_minimal() +\n",
    "        theme(text = element_text(size = 20))\n",
    "hd_plot\n",
    "hd_pairs <- hd_selected |>\n",
    "    ggpairs(aes(fill=risk))\n",
    "hd_pairs"
   ]
  },
  {
   "cell_type": "code",
   "execution_count": null,
   "id": "6ce761ae-c38f-4115-95bf-ab78d0c6a109",
   "metadata": {},
   "outputs": [],
   "source": [
    "set.seed(2023)\n",
    "k_vals <- tibble(neighbors = seq(from = 1, to = 30, by = 1))\n",
    "hd_recipe <- recipe(risk ~ ., data = hd_train) |>\n",
    "  step_scale(all_predictors()) |>\n",
    "  step_center(all_predictors())\n",
    "knn_tune <- nearest_neighbor(weight_func = \"rectangular\", \n",
    "                             neighbors = tune()) |>\n",
    "  set_engine(\"kknn\") |>\n",
    "  set_mode(\"classification\")\n",
    "hd_vfold <- vfold_cv(hd_train, v = 10, strata = risk)\n",
    "hd_tune <- workflow() |>\n",
    "                  add_recipe(hd_recipe) |>\n",
    "                  add_model(knn_tune) |>\n",
    "                  tune_grid(resamples = hd_vfold, grid=k_vals) |>\n",
    "                  collect_metrics()\n",
    "hd_accuracies <- hd_tune |>\n",
    "    filter(.metric == \"accuracy\")"
   ]
  },
  {
   "cell_type": "code",
   "execution_count": null,
   "id": "eb6ab8f7-9014-4fe8-abef-1686c67e1ba2",
   "metadata": {
    "tags": []
   },
   "outputs": [],
   "source": [
    "knn_plot <- ggplot(hd_accuracies, aes(x = neighbors, y = mean)) +\n",
    "  geom_point() +\n",
    "  geom_line() +\n",
    "  labs(x = \"Neighbors\", y = \"Accuracy Estimate\") + \n",
    "  theme(text = element_text(size = 20))\n",
    "knn_plot"
   ]
  },
  {
   "cell_type": "code",
   "execution_count": null,
   "id": "51af0ac2-73f4-4151-b251-3f39982a7b37",
   "metadata": {},
   "outputs": [],
   "source": [
    "k_selected <- hd_accuracies |>\n",
    "    arrange(desc(mean)) |>\n",
    "    slice(1) |>\n",
    "    select(neighbors) |>\n",
    "    pull()\n",
    "k_selected\n",
    "knn_spec <- nearest_neighbor(weight_func = \"rectangular\", \n",
    "                             neighbors = k_selected) |>\n",
    "  set_engine(\"kknn\") |>\n",
    "  set_mode(\"classification\")\n",
    "knn_fit <- workflow() |>\n",
    "    add_recipe(hd_recipe) |>\n",
    "    add_model(knn_spec) |>\n",
    "    fit(data = hd_train)\n",
    "hd_predictions <- predict(knn_fit, hd_test) |>\n",
    "  bind_cols(hd_test)\n",
    "hd_predictions |>\n",
    "  metrics(truth = risk, estimate = .pred_class) |>\n",
    "  filter(.metric == \"accuracy\")"
   ]
  },
  {
   "cell_type": "markdown",
   "id": "b7897df5-6afd-4d44-84d1-7568fdb3ec28",
   "metadata": {},
   "source": [
    "## Methods\n",
    "\n",
    " The variables that will be examined are cholesterol (chol), age (age), fasting blood sugar (fbs) and resting blood pressure (trestbps). That being said, other unneeded columns will be filtered out. The required libraries to be loaded include tidyverse, repr, tidymodels and RColorBrewer. The selected variables will be used to create a knn classification model to predict heart disease risk. When building the model, the data will be split into two groups: training and testing. The training data will be used to train the model, and then be tested with the testing data. Since the value of k in the model might influence the accuracy of the model, various values of k will be tested to determine the k with the highest accuracy. The results will be visualized as a line graph with the accuracies of the models and the values of k, as that will help answer the question."
   ]
  },
  {
   "cell_type": "markdown",
   "id": "84640e71-0df5-4b42-a8d9-1deab77626cd",
   "metadata": {},
   "source": [
    "## Expected Outcomes and Questions\n",
    "\n",
    " The expected outcome of this data analysis is to determine the risk level for heart disease (ranging from 0-4, 0 indicating no presence, to 4 being very risky) based on the chosen variables  (cholesterol level, age, fasting blood sugar and resting blood pressure). Based on previous knowledge, high cholesterol, blood sugar and blood pressure will likely be associated with higher prevalence of heart disease. By identifying how these variables influence risk of heart disease for a certain age group, medical professionals could identify patients with high risk earlier and provide appropriate care and prevention. \n",
    " This data analysis could lead to future questions regarding other potential risk factors and how much they influence the likelihood of developing heart disease. Another question that this data set does not address is whether or not certain variables are influenced by genetic factors or lifestyle and how this difference could change the way they are addressed by medical professionals.\n"
   ]
  },
  {
   "cell_type": "markdown",
   "id": "821d4718-ab1d-40ac-9ee7-f0d08607c7f5",
   "metadata": {},
   "source": [
    "## Work Cited\n",
    "\n",
    "About heart disease. Centers for Disease Control and Prevention. \n",
    "(2022, July 12). Retrieved …March 2, 2023, from \n",
    "https://www.cdc.gov/heartdisease/about.htm \n",
    "\n",
    "U.S. health care from a global perspective, 2019: Higher spending, worse outcomes? U.S. Health …Care from a Global Perspective, 2019 | Commonwealth Fund. (2020, January 30). Retrieved …March 2, 2023, from …https://www.commonwealthfund.org/publications/issue-briefs/2020/jan/us-health-care-global-p…erspective-2019#:~:text=More%20than%20one%2Dquarter%20of,less%20in%20all%20other…%20countries "
   ]
  }
 ],
 "metadata": {
  "kernelspec": {
   "display_name": "R",
   "language": "R",
   "name": "ir"
  },
  "language_info": {
   "codemirror_mode": "r",
   "file_extension": ".r",
   "mimetype": "text/x-r-source",
   "name": "R",
   "pygments_lexer": "r",
   "version": "4.1.3"
  }
 },
 "nbformat": 4,
 "nbformat_minor": 5
}
