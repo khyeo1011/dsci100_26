{
 "cells": [
  {
   "cell_type": "code",
   "execution_count": null,
   "id": "d794862d-a3a7-425d-9503-d191ebd69f8b",
   "metadata": {},
   "outputs": [],
   "source": [
    "library(tidyverse)"
   ]
  },
  {
   "cell_type": "code",
   "execution_count": null,
   "id": "d97ab2cc-eaea-404b-8d9f-9a71714bab41",
   "metadata": {},
   "outputs": [],
   "source": [
    "#Setting up the recipe for Cleveland using num as the categorical identifier and \n",
    "#age, cholesterol, fasting blood sugar, and resting blood sugar as the predictors\n",
    "cleveland_recipe <- recipe(num ~ .,, data = cleveland_hd_split) |>\n",
    "    step_scale(all_predictors()) |>\n",
    "    step_center(all_predictors())\n",
    "cleveland_recipe"
   ]
  },
  {
   "cell_type": "code",
   "execution_count": null,
   "id": "0ea439cb-ee99-45aa-bc7a-6f2dd536d1a2",
   "metadata": {},
   "outputs": [],
   "source": [
    "#K-nearest neighbour classifier, with K = ?\n",
    "knn_spec <- nearest_neighbor(weight_func = \"rectangular\", neighbors = 5) |>\n",
    "    set_engine(\"kknn\") |>\n",
    "    set_mode(\"classification\")\n",
    "\n",
    "cleveland_fit <- workflow() |>\n",
    "    add_recipe(cleveland_recipe) |>\n",
    "    add_model(knn_spec) |>\n",
    "    fit(data = cleveland_hd_train)\n",
    "cleveland_fit"
   ]
  }
 ],
 "metadata": {
  "kernelspec": {
   "display_name": "",
   "name": ""
  },
  "language_info": {
   "codemirror_mode": "r",
   "file_extension": ".r",
   "mimetype": "text/x-r-source",
   "name": "R",
   "pygments_lexer": "r",
   "version": "4.1.3"
  }
 },
 "nbformat": 4,
 "nbformat_minor": 5
}
