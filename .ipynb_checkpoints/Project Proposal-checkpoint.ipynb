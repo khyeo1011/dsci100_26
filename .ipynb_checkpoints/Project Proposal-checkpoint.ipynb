{
 "cells": [
  {
   "cell_type": "markdown",
   "id": "be225ea3-ee6c-40cc-85cd-380755858fdc",
   "metadata": {},
   "source": [
    "## Title goes here"
   ]
  },
  {
   "cell_type": "markdown",
   "id": "8a64c2fa-c5cd-4245-b7bc-de5fe1b6bcce",
   "metadata": {},
   "source": [
    "## Introduction\n",
    "Introduction text goes here"
   ]
  },
  {
   "cell_type": "markdown",
   "id": "8dc0bdd3-f997-4fcd-8740-0eac61875eee",
   "metadata": {},
   "source": [
    "## Preeliminary explanatory data analysis"
   ]
  },
  {
   "cell_type": "markdown",
   "id": "14b984a6-5b88-409a-aa72-6e017a289533",
   "metadata": {},
   "source": [
    "## Methods "
   ]
  },
  {
   "cell_type": "markdown",
   "id": "7bb84f21-35d0-47c4-9fe5-ddca4fa5c4da",
   "metadata": {},
   "source": [
    "## Expected outcome and significance\n"
   ]
  },
  {
   "cell_type": "raw",
   "id": "d9e644ee-16e6-4234-908e-a9ed4528e8fc",
   "metadata": {},
   "source": [
    "Dataset: https://archive.ics.uci.edu/ml/datasets/HTRU2"
   ]
  },
  {
   "cell_type": "code",
   "execution_count": null,
   "id": "35a1c26f-6efc-4b6d-bf09-52a05846a2b5",
   "metadata": {},
   "outputs": [],
   "source": []
  }
 ],
 "metadata": {
  "kernelspec": {
   "display_name": "R",
   "language": "R",
   "name": "ir"
  },
  "language_info": {
   "codemirror_mode": "r",
   "file_extension": ".r",
   "mimetype": "text/x-r-source",
   "name": "R",
   "pygments_lexer": "r",
   "version": "4.1.3"
  }
 },
 "nbformat": 4,
 "nbformat_minor": 5
}
